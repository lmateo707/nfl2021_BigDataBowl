{
  "nbformat": 4,
  "nbformat_minor": 0,
  "metadata": {
    "colab": {
      "name": "playsWithBoth.ipynb",
      "provenance": [],
      "authorship_tag": "ABX9TyMyIOUZzRtKl+NqPZlpUaW+",
      "include_colab_link": true
    },
    "kernelspec": {
      "name": "python3",
      "display_name": "Python 3"
    }
  },
  "cells": [
    {
      "cell_type": "markdown",
      "metadata": {
        "id": "view-in-github",
        "colab_type": "text"
      },
      "source": [
        "<a href=\"https://colab.research.google.com/github/lmateo707/nfl2021_BigDataBowl/blob/main/playsWithBoth.ipynb\" target=\"_parent\"><img src=\"https://colab.research.google.com/assets/colab-badge.svg\" alt=\"Open In Colab\"/></a>"
      ]
    },
    {
      "cell_type": "code",
      "metadata": {
        "id": "g636G6cEPN0V"
      },
      "source": [
        "import matplotlib.pyplot as plt\r\n",
        "from sklearn.neighbors import KNeighborsClassifier\r\n",
        "import pandas as pd\r\n",
        "import numpy as np\r\n",
        "import os"
      ],
      "execution_count": null,
      "outputs": []
    },
    {
      "cell_type": "code",
      "metadata": {
        "id": "uCK8NVLCPTeh"
      },
      "source": [
        "import re\r\n",
        "import math\r\n",
        "import pandas as pd\r\n",
        "import numpy as np\r\n",
        "import matplotlib.animation as animation\r\n",
        "import matplotlib.pyplot as plt\r\n",
        "from matplotlib.patches import Rectangle\r\n",
        "from tqdm import tqdm\r\n",
        "\r\n",
        "pd.set_option('display.max_columns', 1000)\r\n",
        "pd.set_option('display.max_colwidth', 1000)\r\n",
        "pd.set_option('display.max_rows', 1000)\r\n",
        "plt.rcParams[\"animation.html\"] = \"jshtml\"\r\n",
        "plt.rcParams['figure.dpi'] = 150  \r\n",
        "plt.ioff()"
      ],
      "execution_count": null,
      "outputs": []
    },
    {
      "cell_type": "code",
      "metadata": {
        "colab": {
          "resources": {
            "http://localhost:8080/nbextensions/google.colab/files.js": {
              "data": "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",
              "ok": true,
              "headers": [
                [
                  "content-type",
                  "application/javascript"
                ]
              ],
              "status": 200,
              "status_text": ""
            }
          },
          "base_uri": "https://localhost:8080/",
          "height": 73
        },
        "id": "l3gIRG15PdVe",
        "outputId": "a32fbe54-5d00-4bd4-8310-b96105dbbdbf"
      },
      "source": [
        "from google.colab import files\r\n",
        "uploaded = files.upload()"
      ],
      "execution_count": null,
      "outputs": [
        {
          "output_type": "display_data",
          "data": {
            "text/html": [
              "\n",
              "     <input type=\"file\" id=\"files-f0262512-c185-42e2-ae65-f171da2c8771\" name=\"files[]\" multiple disabled\n",
              "        style=\"border:none\" />\n",
              "     <output id=\"result-f0262512-c185-42e2-ae65-f171da2c8771\">\n",
              "      Upload widget is only available when the cell has been executed in the\n",
              "      current browser session. Please rerun this cell to enable.\n",
              "      </output>\n",
              "      <script src=\"/nbextensions/google.colab/files.js\"></script> "
            ],
            "text/plain": [
              "<IPython.core.display.HTML object>"
            ]
          },
          "metadata": {
            "tags": []
          }
        },
        {
          "output_type": "stream",
          "text": [
            "Saving plays_with_both.csv to plays_with_both.csv\n"
          ],
          "name": "stdout"
        }
      ]
    },
    {
      "cell_type": "code",
      "metadata": {
        "id": "lUgY_FsDPfHn"
      },
      "source": [
        "plays = pd.read_csv(\"plays_with_both.csv\")"
      ],
      "execution_count": null,
      "outputs": []
    },
    {
      "cell_type": "code",
      "metadata": {
        "colab": {
          "base_uri": "https://localhost:8080/",
          "height": 294
        },
        "id": "wnOuOw-7Pt1R",
        "outputId": "2330404a-14e9-4515-ad0c-28de1ff3bf15"
      },
      "source": [
        "plays.head(2)"
      ],
      "execution_count": null,
      "outputs": [
        {
          "output_type": "execute_result",
          "data": {
            "text/html": [
              "<div>\n",
              "<style scoped>\n",
              "    .dataframe tbody tr th:only-of-type {\n",
              "        vertical-align: middle;\n",
              "    }\n",
              "\n",
              "    .dataframe tbody tr th {\n",
              "        vertical-align: top;\n",
              "    }\n",
              "\n",
              "    .dataframe thead th {\n",
              "        text-align: right;\n",
              "    }\n",
              "</style>\n",
              "<table border=\"1\" class=\"dataframe\">\n",
              "  <thead>\n",
              "    <tr style=\"text-align: right;\">\n",
              "      <th></th>\n",
              "      <th>Unnamed: 0</th>\n",
              "      <th>gameId</th>\n",
              "      <th>playId</th>\n",
              "      <th>playDescription</th>\n",
              "      <th>quarter</th>\n",
              "      <th>down</th>\n",
              "      <th>yardsToGo</th>\n",
              "      <th>possessionTeam</th>\n",
              "      <th>playType</th>\n",
              "      <th>yardlineSide</th>\n",
              "      <th>yardlineNumber</th>\n",
              "      <th>offenseFormation</th>\n",
              "      <th>personnelO</th>\n",
              "      <th>defendersInTheBox</th>\n",
              "      <th>numberOfPassRushers</th>\n",
              "      <th>personnelD</th>\n",
              "      <th>typeDropback</th>\n",
              "      <th>preSnapVisitorScore</th>\n",
              "      <th>preSnapHomeScore</th>\n",
              "      <th>gameClock</th>\n",
              "      <th>absoluteYardlineNumber</th>\n",
              "      <th>penaltyCodes</th>\n",
              "      <th>penaltyJerseyNumbers</th>\n",
              "      <th>passResult</th>\n",
              "      <th>offensePlayResult</th>\n",
              "      <th>playResult</th>\n",
              "      <th>epa</th>\n",
              "      <th>isDefensivePI</th>\n",
              "      <th>target</th>\n",
              "      <th>coverOne</th>\n",
              "      <th>coverTwo</th>\n",
              "    </tr>\n",
              "  </thead>\n",
              "  <tbody>\n",
              "    <tr>\n",
              "      <th>0</th>\n",
              "      <td>0</td>\n",
              "      <td>2018090600</td>\n",
              "      <td>75</td>\n",
              "      <td>(15:00) M.Ryan pass short right to J.Jones pushed ob at ATL 30 for 10 yards (M.Jenkins).</td>\n",
              "      <td>1</td>\n",
              "      <td>1</td>\n",
              "      <td>15</td>\n",
              "      <td>ATL</td>\n",
              "      <td>play_type_pass</td>\n",
              "      <td>ATL</td>\n",
              "      <td>20</td>\n",
              "      <td>I_FORM</td>\n",
              "      <td>2 RB, 1 TE, 2 WR</td>\n",
              "      <td>7.0</td>\n",
              "      <td>4.0</td>\n",
              "      <td>4 DL, 2 LB, 5 DB</td>\n",
              "      <td>TRADITIONAL</td>\n",
              "      <td>0.0</td>\n",
              "      <td>0.0</td>\n",
              "      <td>15:00:00</td>\n",
              "      <td>90.0</td>\n",
              "      <td>NaN</td>\n",
              "      <td>NaN</td>\n",
              "      <td>C</td>\n",
              "      <td>10</td>\n",
              "      <td>10</td>\n",
              "      <td>0.261827</td>\n",
              "      <td>False</td>\n",
              "      <td>Julio Jones</td>\n",
              "      <td>Malcolm Jenkins</td>\n",
              "      <td>NaN</td>\n",
              "    </tr>\n",
              "    <tr>\n",
              "      <th>1</th>\n",
              "      <td>1</td>\n",
              "      <td>2018090600</td>\n",
              "      <td>146</td>\n",
              "      <td>(13:10) M.Ryan pass incomplete short right to C.Ridley (J.Mills, J.Hicks).</td>\n",
              "      <td>1</td>\n",
              "      <td>1</td>\n",
              "      <td>10</td>\n",
              "      <td>ATL</td>\n",
              "      <td>play_type_pass</td>\n",
              "      <td>PHI</td>\n",
              "      <td>39</td>\n",
              "      <td>SINGLEBACK</td>\n",
              "      <td>1 RB, 1 TE, 3 WR</td>\n",
              "      <td>7.0</td>\n",
              "      <td>4.0</td>\n",
              "      <td>4 DL, 2 LB, 5 DB</td>\n",
              "      <td>TRADITIONAL</td>\n",
              "      <td>0.0</td>\n",
              "      <td>0.0</td>\n",
              "      <td>13:10:00</td>\n",
              "      <td>49.0</td>\n",
              "      <td>NaN</td>\n",
              "      <td>NaN</td>\n",
              "      <td>I</td>\n",
              "      <td>0</td>\n",
              "      <td>0</td>\n",
              "      <td>-0.372360</td>\n",
              "      <td>False</td>\n",
              "      <td>Calvin Ridley</td>\n",
              "      <td>Jalen Mills</td>\n",
              "      <td>Jordan Hicks</td>\n",
              "    </tr>\n",
              "  </tbody>\n",
              "</table>\n",
              "</div>"
            ],
            "text/plain": [
              "   Unnamed: 0      gameId  playId  \\\n",
              "0           0  2018090600      75   \n",
              "1           1  2018090600     146   \n",
              "\n",
              "                                                                            playDescription  \\\n",
              "0  (15:00) M.Ryan pass short right to J.Jones pushed ob at ATL 30 for 10 yards (M.Jenkins).   \n",
              "1                (13:10) M.Ryan pass incomplete short right to C.Ridley (J.Mills, J.Hicks).   \n",
              "\n",
              "   quarter  down  yardsToGo possessionTeam        playType yardlineSide  \\\n",
              "0        1     1         15            ATL  play_type_pass          ATL   \n",
              "1        1     1         10            ATL  play_type_pass          PHI   \n",
              "\n",
              "   yardlineNumber offenseFormation        personnelO  defendersInTheBox  \\\n",
              "0              20           I_FORM  2 RB, 1 TE, 2 WR                7.0   \n",
              "1              39       SINGLEBACK  1 RB, 1 TE, 3 WR                7.0   \n",
              "\n",
              "   numberOfPassRushers        personnelD typeDropback  preSnapVisitorScore  \\\n",
              "0                  4.0  4 DL, 2 LB, 5 DB  TRADITIONAL                  0.0   \n",
              "1                  4.0  4 DL, 2 LB, 5 DB  TRADITIONAL                  0.0   \n",
              "\n",
              "   preSnapHomeScore gameClock  absoluteYardlineNumber penaltyCodes  \\\n",
              "0               0.0  15:00:00                    90.0          NaN   \n",
              "1               0.0  13:10:00                    49.0          NaN   \n",
              "\n",
              "  penaltyJerseyNumbers passResult  offensePlayResult  playResult       epa  \\\n",
              "0                  NaN          C                 10          10  0.261827   \n",
              "1                  NaN          I                  0           0 -0.372360   \n",
              "\n",
              "   isDefensivePI         target         coverOne      coverTwo  \n",
              "0          False    Julio Jones  Malcolm Jenkins           NaN  \n",
              "1          False  Calvin Ridley      Jalen Mills  Jordan Hicks  "
            ]
          },
          "metadata": {
            "tags": []
          },
          "execution_count": 21
        }
      ]
    },
    {
      "cell_type": "markdown",
      "metadata": {
        "id": "U8h42Or6Pw8v"
      },
      "source": [
        "**What are the most successful/unsuccessful target-cover pair?**"
      ]
    },
    {
      "cell_type": "code",
      "metadata": {
        "colab": {
          "base_uri": "https://localhost:8080/"
        },
        "id": "pMHW3UC6P2QY",
        "outputId": "89a0e612-2e35-4bc4-9d70-ad6193912799"
      },
      "source": [
        "nan = np.nan\r\n",
        "playsWithPair = plays.query(\"target!='-'\")\r\n",
        "playsWithPair = playsWithPair[~playsWithPair.coverOne.isna()]\r\n",
        "playsWithPair = playsWithPair.reset_index(drop=True)\r\n",
        "print(str(round(100.0*len(playsWithPair)/len(plays), 1))+\"%\")"
      ],
      "execution_count": null,
      "outputs": [
        {
          "output_type": "stream",
          "text": [
            "80.1%\n"
          ],
          "name": "stdout"
        }
      ]
    },
    {
      "cell_type": "code",
      "metadata": {
        "colab": {
          "base_uri": "https://localhost:8080/",
          "height": 294
        },
        "id": "2fxKgbuoP-Dm",
        "outputId": "1b80dfda-03d7-4fbe-f2cc-ee61125c7513"
      },
      "source": [
        "playsWithPair.head(2)"
      ],
      "execution_count": null,
      "outputs": [
        {
          "output_type": "execute_result",
          "data": {
            "text/html": [
              "<div>\n",
              "<style scoped>\n",
              "    .dataframe tbody tr th:only-of-type {\n",
              "        vertical-align: middle;\n",
              "    }\n",
              "\n",
              "    .dataframe tbody tr th {\n",
              "        vertical-align: top;\n",
              "    }\n",
              "\n",
              "    .dataframe thead th {\n",
              "        text-align: right;\n",
              "    }\n",
              "</style>\n",
              "<table border=\"1\" class=\"dataframe\">\n",
              "  <thead>\n",
              "    <tr style=\"text-align: right;\">\n",
              "      <th></th>\n",
              "      <th>Unnamed: 0</th>\n",
              "      <th>gameId</th>\n",
              "      <th>playId</th>\n",
              "      <th>playDescription</th>\n",
              "      <th>quarter</th>\n",
              "      <th>down</th>\n",
              "      <th>yardsToGo</th>\n",
              "      <th>possessionTeam</th>\n",
              "      <th>playType</th>\n",
              "      <th>yardlineSide</th>\n",
              "      <th>yardlineNumber</th>\n",
              "      <th>offenseFormation</th>\n",
              "      <th>personnelO</th>\n",
              "      <th>defendersInTheBox</th>\n",
              "      <th>numberOfPassRushers</th>\n",
              "      <th>personnelD</th>\n",
              "      <th>typeDropback</th>\n",
              "      <th>preSnapVisitorScore</th>\n",
              "      <th>preSnapHomeScore</th>\n",
              "      <th>gameClock</th>\n",
              "      <th>absoluteYardlineNumber</th>\n",
              "      <th>penaltyCodes</th>\n",
              "      <th>penaltyJerseyNumbers</th>\n",
              "      <th>passResult</th>\n",
              "      <th>offensePlayResult</th>\n",
              "      <th>playResult</th>\n",
              "      <th>epa</th>\n",
              "      <th>isDefensivePI</th>\n",
              "      <th>target</th>\n",
              "      <th>coverOne</th>\n",
              "      <th>coverTwo</th>\n",
              "    </tr>\n",
              "  </thead>\n",
              "  <tbody>\n",
              "    <tr>\n",
              "      <th>0</th>\n",
              "      <td>0</td>\n",
              "      <td>2018090600</td>\n",
              "      <td>75</td>\n",
              "      <td>(15:00) M.Ryan pass short right to J.Jones pushed ob at ATL 30 for 10 yards (M.Jenkins).</td>\n",
              "      <td>1</td>\n",
              "      <td>1</td>\n",
              "      <td>15</td>\n",
              "      <td>ATL</td>\n",
              "      <td>play_type_pass</td>\n",
              "      <td>ATL</td>\n",
              "      <td>20</td>\n",
              "      <td>I_FORM</td>\n",
              "      <td>2 RB, 1 TE, 2 WR</td>\n",
              "      <td>7.0</td>\n",
              "      <td>4.0</td>\n",
              "      <td>4 DL, 2 LB, 5 DB</td>\n",
              "      <td>TRADITIONAL</td>\n",
              "      <td>0.0</td>\n",
              "      <td>0.0</td>\n",
              "      <td>15:00:00</td>\n",
              "      <td>90.0</td>\n",
              "      <td>NaN</td>\n",
              "      <td>NaN</td>\n",
              "      <td>C</td>\n",
              "      <td>10</td>\n",
              "      <td>10</td>\n",
              "      <td>0.261827</td>\n",
              "      <td>False</td>\n",
              "      <td>Julio Jones</td>\n",
              "      <td>Malcolm Jenkins</td>\n",
              "      <td>NaN</td>\n",
              "    </tr>\n",
              "    <tr>\n",
              "      <th>1</th>\n",
              "      <td>1</td>\n",
              "      <td>2018090600</td>\n",
              "      <td>146</td>\n",
              "      <td>(13:10) M.Ryan pass incomplete short right to C.Ridley (J.Mills, J.Hicks).</td>\n",
              "      <td>1</td>\n",
              "      <td>1</td>\n",
              "      <td>10</td>\n",
              "      <td>ATL</td>\n",
              "      <td>play_type_pass</td>\n",
              "      <td>PHI</td>\n",
              "      <td>39</td>\n",
              "      <td>SINGLEBACK</td>\n",
              "      <td>1 RB, 1 TE, 3 WR</td>\n",
              "      <td>7.0</td>\n",
              "      <td>4.0</td>\n",
              "      <td>4 DL, 2 LB, 5 DB</td>\n",
              "      <td>TRADITIONAL</td>\n",
              "      <td>0.0</td>\n",
              "      <td>0.0</td>\n",
              "      <td>13:10:00</td>\n",
              "      <td>49.0</td>\n",
              "      <td>NaN</td>\n",
              "      <td>NaN</td>\n",
              "      <td>I</td>\n",
              "      <td>0</td>\n",
              "      <td>0</td>\n",
              "      <td>-0.372360</td>\n",
              "      <td>False</td>\n",
              "      <td>Calvin Ridley</td>\n",
              "      <td>Jalen Mills</td>\n",
              "      <td>Jordan Hicks</td>\n",
              "    </tr>\n",
              "  </tbody>\n",
              "</table>\n",
              "</div>"
            ],
            "text/plain": [
              "   Unnamed: 0      gameId  playId  \\\n",
              "0           0  2018090600      75   \n",
              "1           1  2018090600     146   \n",
              "\n",
              "                                                                            playDescription  \\\n",
              "0  (15:00) M.Ryan pass short right to J.Jones pushed ob at ATL 30 for 10 yards (M.Jenkins).   \n",
              "1                (13:10) M.Ryan pass incomplete short right to C.Ridley (J.Mills, J.Hicks).   \n",
              "\n",
              "   quarter  down  yardsToGo possessionTeam        playType yardlineSide  \\\n",
              "0        1     1         15            ATL  play_type_pass          ATL   \n",
              "1        1     1         10            ATL  play_type_pass          PHI   \n",
              "\n",
              "   yardlineNumber offenseFormation        personnelO  defendersInTheBox  \\\n",
              "0              20           I_FORM  2 RB, 1 TE, 2 WR                7.0   \n",
              "1              39       SINGLEBACK  1 RB, 1 TE, 3 WR                7.0   \n",
              "\n",
              "   numberOfPassRushers        personnelD typeDropback  preSnapVisitorScore  \\\n",
              "0                  4.0  4 DL, 2 LB, 5 DB  TRADITIONAL                  0.0   \n",
              "1                  4.0  4 DL, 2 LB, 5 DB  TRADITIONAL                  0.0   \n",
              "\n",
              "   preSnapHomeScore gameClock  absoluteYardlineNumber penaltyCodes  \\\n",
              "0               0.0  15:00:00                    90.0          NaN   \n",
              "1               0.0  13:10:00                    49.0          NaN   \n",
              "\n",
              "  penaltyJerseyNumbers passResult  offensePlayResult  playResult       epa  \\\n",
              "0                  NaN          C                 10          10  0.261827   \n",
              "1                  NaN          I                  0           0 -0.372360   \n",
              "\n",
              "   isDefensivePI         target         coverOne      coverTwo  \n",
              "0          False    Julio Jones  Malcolm Jenkins           NaN  \n",
              "1          False  Calvin Ridley      Jalen Mills  Jordan Hicks  "
            ]
          },
          "metadata": {
            "tags": []
          },
          "execution_count": 22
        }
      ]
    },
    {
      "cell_type": "code",
      "metadata": {
        "colab": {
          "base_uri": "https://localhost:8080/",
          "height": 347
        },
        "id": "1QiVkvNIQAM8",
        "outputId": "76be3754-c0b0-4891-c43a-8de1648b251f"
      },
      "source": [
        "coverTwoExists = playsWithPair[~playsWithPair.coverTwo.isna()]\r\n",
        "target = pd.concat([playsWithPair.target, coverTwoExists.target])\r\n",
        "cover = pd.concat([playsWithPair.coverOne, coverTwoExists.coverTwo])\r\n",
        "passResult = pd.concat([playsWithPair.passResult, coverTwoExists.passResult])\r\n",
        "pairResult = pd.DataFrame()\r\n",
        "pairResult = pairResult.assign(target=target, cover=cover, passResult=passResult)\r\n",
        "pairResult = pairResult.reset_index(drop=True)\r\n",
        "pairResult.head(10)"
      ],
      "execution_count": null,
      "outputs": [
        {
          "output_type": "execute_result",
          "data": {
            "text/html": [
              "<div>\n",
              "<style scoped>\n",
              "    .dataframe tbody tr th:only-of-type {\n",
              "        vertical-align: middle;\n",
              "    }\n",
              "\n",
              "    .dataframe tbody tr th {\n",
              "        vertical-align: top;\n",
              "    }\n",
              "\n",
              "    .dataframe thead th {\n",
              "        text-align: right;\n",
              "    }\n",
              "</style>\n",
              "<table border=\"1\" class=\"dataframe\">\n",
              "  <thead>\n",
              "    <tr style=\"text-align: right;\">\n",
              "      <th></th>\n",
              "      <th>target</th>\n",
              "      <th>cover</th>\n",
              "      <th>passResult</th>\n",
              "    </tr>\n",
              "  </thead>\n",
              "  <tbody>\n",
              "    <tr>\n",
              "      <th>0</th>\n",
              "      <td>Julio Jones</td>\n",
              "      <td>Malcolm Jenkins</td>\n",
              "      <td>C</td>\n",
              "    </tr>\n",
              "    <tr>\n",
              "      <th>1</th>\n",
              "      <td>Calvin Ridley</td>\n",
              "      <td>Jalen Mills</td>\n",
              "      <td>I</td>\n",
              "    </tr>\n",
              "    <tr>\n",
              "      <th>2</th>\n",
              "      <td>Devonta Freeman</td>\n",
              "      <td>Jalen Mills</td>\n",
              "      <td>I</td>\n",
              "    </tr>\n",
              "    <tr>\n",
              "      <th>3</th>\n",
              "      <td>Julio Jones</td>\n",
              "      <td>Ronald Darby</td>\n",
              "      <td>C</td>\n",
              "    </tr>\n",
              "    <tr>\n",
              "      <th>4</th>\n",
              "      <td>Devonta Freeman</td>\n",
              "      <td>Ronald Darby</td>\n",
              "      <td>I</td>\n",
              "    </tr>\n",
              "    <tr>\n",
              "      <th>5</th>\n",
              "      <td>Nelson Agholor</td>\n",
              "      <td>Robert Alford</td>\n",
              "      <td>C</td>\n",
              "    </tr>\n",
              "    <tr>\n",
              "      <th>6</th>\n",
              "      <td>Darren Sproles</td>\n",
              "      <td>Ricardo Allen</td>\n",
              "      <td>I</td>\n",
              "    </tr>\n",
              "    <tr>\n",
              "      <th>7</th>\n",
              "      <td>Mohamed Sanu</td>\n",
              "      <td>Ricardo Allen</td>\n",
              "      <td>I</td>\n",
              "    </tr>\n",
              "    <tr>\n",
              "      <th>8</th>\n",
              "      <td>Tevin Coleman</td>\n",
              "      <td>Rodney McLeod</td>\n",
              "      <td>C</td>\n",
              "    </tr>\n",
              "    <tr>\n",
              "      <th>9</th>\n",
              "      <td>Austin Hooper</td>\n",
              "      <td>Nate Gerry</td>\n",
              "      <td>C</td>\n",
              "    </tr>\n",
              "  </tbody>\n",
              "</table>\n",
              "</div>"
            ],
            "text/plain": [
              "            target            cover passResult\n",
              "0      Julio Jones  Malcolm Jenkins          C\n",
              "1    Calvin Ridley      Jalen Mills          I\n",
              "2  Devonta Freeman      Jalen Mills          I\n",
              "3      Julio Jones     Ronald Darby          C\n",
              "4  Devonta Freeman     Ronald Darby          I\n",
              "5   Nelson Agholor    Robert Alford          C\n",
              "6   Darren Sproles    Ricardo Allen          I\n",
              "7     Mohamed Sanu    Ricardo Allen          I\n",
              "8    Tevin Coleman    Rodney McLeod          C\n",
              "9    Austin Hooper       Nate Gerry          C"
            ]
          },
          "metadata": {
            "tags": []
          },
          "execution_count": 11
        }
      ]
    },
    {
      "cell_type": "code",
      "metadata": {
        "colab": {
          "base_uri": "https://localhost:8080/",
          "height": 436
        },
        "id": "Xmw52cVvQEKG",
        "outputId": "7ca8a61c-b581-4802-9074-54903094e18b"
      },
      "source": [
        "pairResult.query(\"passResult=='C'\").groupby(['target', 'cover']).count().sort_values(\"passResult\", ascending=False)"
      ],
      "execution_count": null,
      "outputs": [
        {
          "output_type": "execute_result",
          "data": {
            "text/html": [
              "<div>\n",
              "<style scoped>\n",
              "    .dataframe tbody tr th:only-of-type {\n",
              "        vertical-align: middle;\n",
              "    }\n",
              "\n",
              "    .dataframe tbody tr th {\n",
              "        vertical-align: top;\n",
              "    }\n",
              "\n",
              "    .dataframe thead th {\n",
              "        text-align: right;\n",
              "    }\n",
              "</style>\n",
              "<table border=\"1\" class=\"dataframe\">\n",
              "  <thead>\n",
              "    <tr style=\"text-align: right;\">\n",
              "      <th></th>\n",
              "      <th></th>\n",
              "      <th>passResult</th>\n",
              "    </tr>\n",
              "    <tr>\n",
              "      <th>target</th>\n",
              "      <th>cover</th>\n",
              "      <th></th>\n",
              "    </tr>\n",
              "  </thead>\n",
              "  <tbody>\n",
              "    <tr>\n",
              "      <th>Davante Adams</th>\n",
              "      <th>Xavier Rhodes</th>\n",
              "      <td>12</td>\n",
              "    </tr>\n",
              "    <tr>\n",
              "      <th>Julio Jones</th>\n",
              "      <th>Eli Apple</th>\n",
              "      <td>9</td>\n",
              "    </tr>\n",
              "    <tr>\n",
              "      <th>Christian McCaffrey</th>\n",
              "      <th>De'Vondre Campbell</th>\n",
              "      <td>7</td>\n",
              "    </tr>\n",
              "    <tr>\n",
              "      <th>Adam Humphries</th>\n",
              "      <th>Captain Munnerlyn</th>\n",
              "      <td>7</td>\n",
              "    </tr>\n",
              "    <tr>\n",
              "      <th>Stefon Diggs</th>\n",
              "      <th>Prince Amukamara</th>\n",
              "      <td>7</td>\n",
              "    </tr>\n",
              "    <tr>\n",
              "      <th>...</th>\n",
              "      <th>...</th>\n",
              "      <td>...</td>\n",
              "    </tr>\n",
              "    <tr>\n",
              "      <th>Geronimo Allison</th>\n",
              "      <th>Adrian Amos</th>\n",
              "      <td>1</td>\n",
              "    </tr>\n",
              "    <tr>\n",
              "      <th rowspan=\"3\" valign=\"top\">Gerald Everett</th>\n",
              "      <th>Tramaine Brock</th>\n",
              "      <td>1</td>\n",
              "    </tr>\n",
              "    <tr>\n",
              "      <th>Sherrick McManis</th>\n",
              "      <td>1</td>\n",
              "    </tr>\n",
              "    <tr>\n",
              "      <th>Quandre Diggs</th>\n",
              "      <td>1</td>\n",
              "    </tr>\n",
              "    <tr>\n",
              "      <th>Jonnu Smith</th>\n",
              "      <th>Denzel Perryman</th>\n",
              "      <td>1</td>\n",
              "    </tr>\n",
              "  </tbody>\n",
              "</table>\n",
              "<p>8684 rows × 1 columns</p>\n",
              "</div>"
            ],
            "text/plain": [
              "                                        passResult\n",
              "target              cover                         \n",
              "Davante Adams       Xavier Rhodes               12\n",
              "Julio Jones         Eli Apple                    9\n",
              "Christian McCaffrey De'Vondre Campbell           7\n",
              "Adam Humphries      Captain Munnerlyn            7\n",
              "Stefon Diggs        Prince Amukamara             7\n",
              "...                                            ...\n",
              "Geronimo Allison    Adrian Amos                  1\n",
              "Gerald Everett      Tramaine Brock               1\n",
              "                    Sherrick McManis             1\n",
              "                    Quandre Diggs                1\n",
              "Jonnu Smith         Denzel Perryman              1\n",
              "\n",
              "[8684 rows x 1 columns]"
            ]
          },
          "metadata": {
            "tags": []
          },
          "execution_count": 12
        }
      ]
    },
    {
      "cell_type": "code",
      "metadata": {
        "colab": {
          "base_uri": "https://localhost:8080/",
          "height": 407
        },
        "id": "e15hR9EQQPLh",
        "outputId": "ff5cefe5-6b7b-4aa1-bc1a-8371511cf03a"
      },
      "source": [
        "pairCompletion= pairResult.query(\"passResult=='C'\").groupby(['target', 'cover']).count().sort_values(\"passResult\", ascending=False)\r\n",
        "pairTotal = pairResult.groupby(['target', 'cover']).count().sort_values(\"passResult\", ascending=False)\r\n",
        "pairTotal = pairTotal.assign(completionRate=pairCompletion.passResult.divide(pairTotal.passResult, fill_value=0.0))\r\n",
        "pairTotal.query(\"passResult > 7\").sort_values(['passResult','completionRate'], ascending=[False, True])"
      ],
      "execution_count": null,
      "outputs": [
        {
          "output_type": "execute_result",
          "data": {
            "text/html": [
              "<div>\n",
              "<style scoped>\n",
              "    .dataframe tbody tr th:only-of-type {\n",
              "        vertical-align: middle;\n",
              "    }\n",
              "\n",
              "    .dataframe tbody tr th {\n",
              "        vertical-align: top;\n",
              "    }\n",
              "\n",
              "    .dataframe thead th {\n",
              "        text-align: right;\n",
              "    }\n",
              "</style>\n",
              "<table border=\"1\" class=\"dataframe\">\n",
              "  <thead>\n",
              "    <tr style=\"text-align: right;\">\n",
              "      <th></th>\n",
              "      <th></th>\n",
              "      <th>passResult</th>\n",
              "      <th>completionRate</th>\n",
              "    </tr>\n",
              "    <tr>\n",
              "      <th>target</th>\n",
              "      <th>cover</th>\n",
              "      <th></th>\n",
              "      <th></th>\n",
              "    </tr>\n",
              "  </thead>\n",
              "  <tbody>\n",
              "    <tr>\n",
              "      <th>Davante Adams</th>\n",
              "      <th>Xavier Rhodes</th>\n",
              "      <td>14</td>\n",
              "      <td>0.857143</td>\n",
              "    </tr>\n",
              "    <tr>\n",
              "      <th>Odell Beckham</th>\n",
              "      <th>James Bradberry</th>\n",
              "      <td>10</td>\n",
              "      <td>0.500000</td>\n",
              "    </tr>\n",
              "    <tr>\n",
              "      <th>Julio Jones</th>\n",
              "      <th>Eli Apple</th>\n",
              "      <td>10</td>\n",
              "      <td>0.900000</td>\n",
              "    </tr>\n",
              "    <tr>\n",
              "      <th>Antonio Brown</th>\n",
              "      <th>Denzel Ward</th>\n",
              "      <td>9</td>\n",
              "      <td>0.555556</td>\n",
              "    </tr>\n",
              "    <tr>\n",
              "      <th>T.Y. Hilton</th>\n",
              "      <th>Jalen Ramsey</th>\n",
              "      <td>8</td>\n",
              "      <td>0.625000</td>\n",
              "    </tr>\n",
              "    <tr>\n",
              "      <th>Mike Evans</th>\n",
              "      <th>James Bradberry</th>\n",
              "      <td>8</td>\n",
              "      <td>0.625000</td>\n",
              "    </tr>\n",
              "    <tr>\n",
              "      <th>DeAndre Hopkins</th>\n",
              "      <th>Jalen Ramsey</th>\n",
              "      <td>8</td>\n",
              "      <td>0.625000</td>\n",
              "    </tr>\n",
              "    <tr>\n",
              "      <th>Michael Thomas</th>\n",
              "      <th>Lavonte David</th>\n",
              "      <td>8</td>\n",
              "      <td>0.875000</td>\n",
              "    </tr>\n",
              "    <tr>\n",
              "      <th>Adam Humphries</th>\n",
              "      <th>Captain Munnerlyn</th>\n",
              "      <td>8</td>\n",
              "      <td>0.875000</td>\n",
              "    </tr>\n",
              "    <tr>\n",
              "      <th>Julio Jones</th>\n",
              "      <th>Jaire Alexander</th>\n",
              "      <td>8</td>\n",
              "      <td>0.875000</td>\n",
              "    </tr>\n",
              "    <tr>\n",
              "      <th>Stefon Diggs</th>\n",
              "      <th>Prince Amukamara</th>\n",
              "      <td>8</td>\n",
              "      <td>0.875000</td>\n",
              "    </tr>\n",
              "  </tbody>\n",
              "</table>\n",
              "</div>"
            ],
            "text/plain": [
              "                                   passResult  completionRate\n",
              "target          cover                                        \n",
              "Davante Adams   Xavier Rhodes              14        0.857143\n",
              "Odell Beckham   James Bradberry            10        0.500000\n",
              "Julio Jones     Eli Apple                  10        0.900000\n",
              "Antonio Brown   Denzel Ward                 9        0.555556\n",
              "T.Y. Hilton     Jalen Ramsey                8        0.625000\n",
              "Mike Evans      James Bradberry             8        0.625000\n",
              "DeAndre Hopkins Jalen Ramsey                8        0.625000\n",
              "Michael Thomas  Lavonte David               8        0.875000\n",
              "Adam Humphries  Captain Munnerlyn           8        0.875000\n",
              "Julio Jones     Jaire Alexander             8        0.875000\n",
              "Stefon Diggs    Prince Amukamara            8        0.875000"
            ]
          },
          "metadata": {
            "tags": []
          },
          "execution_count": 13
        }
      ]
    },
    {
      "cell_type": "code",
      "metadata": {
        "id": "cP5-2hm1Qa3e"
      },
      "source": [
        ""
      ],
      "execution_count": null,
      "outputs": []
    },
    {
      "cell_type": "markdown",
      "metadata": {
        "id": "OFiEtGmqQdqj"
      },
      "source": [
        "**What are the most successful covers?**"
      ]
    },
    {
      "cell_type": "code",
      "metadata": {
        "colab": {
          "base_uri": "https://localhost:8080/",
          "height": 377
        },
        "id": "JvmX1Nr3Qiio",
        "outputId": "c8287537-2844-4eac-a557-e327f05605e6"
      },
      "source": [
        "pairIncompletion = pairResult.query(\"passResult!='C'\").groupby('cover').count().sort_values(\"passResult\", ascending=False)\r\n",
        "pairTotal = pairResult.groupby('cover').count().sort_values(\"passResult\", ascending=False)\r\n",
        "pairTotal = pairTotal.assign(incompletionRate=pairIncompletion.passResult.divide(pairTotal.passResult, fill_value=0.0)).drop('target', axis=1)\r\n",
        "pairTotal = pairTotal.rename(columns={'passResult':'coverCount'})[[\"incompletionRate\", \"coverCount\"]]\r\n",
        "pairTotal = pairTotal.sort_values(['coverCount', 'incompletionRate'], ascending=[False, True])\r\n",
        "pairTotal.head(10)"
      ],
      "execution_count": null,
      "outputs": [
        {
          "output_type": "execute_result",
          "data": {
            "text/html": [
              "<div>\n",
              "<style scoped>\n",
              "    .dataframe tbody tr th:only-of-type {\n",
              "        vertical-align: middle;\n",
              "    }\n",
              "\n",
              "    .dataframe tbody tr th {\n",
              "        vertical-align: top;\n",
              "    }\n",
              "\n",
              "    .dataframe thead th {\n",
              "        text-align: right;\n",
              "    }\n",
              "</style>\n",
              "<table border=\"1\" class=\"dataframe\">\n",
              "  <thead>\n",
              "    <tr style=\"text-align: right;\">\n",
              "      <th></th>\n",
              "      <th>incompletionRate</th>\n",
              "      <th>coverCount</th>\n",
              "    </tr>\n",
              "    <tr>\n",
              "      <th>cover</th>\n",
              "      <th></th>\n",
              "      <th></th>\n",
              "    </tr>\n",
              "  </thead>\n",
              "  <tbody>\n",
              "    <tr>\n",
              "      <th>James Bradberry</th>\n",
              "      <td>0.419048</td>\n",
              "      <td>105</td>\n",
              "    </tr>\n",
              "    <tr>\n",
              "      <th>Eli Apple</th>\n",
              "      <td>0.352941</td>\n",
              "      <td>102</td>\n",
              "    </tr>\n",
              "    <tr>\n",
              "      <th>Adoree' Jackson</th>\n",
              "      <td>0.326733</td>\n",
              "      <td>101</td>\n",
              "    </tr>\n",
              "    <tr>\n",
              "      <th>Tremaine Edmunds</th>\n",
              "      <td>0.340206</td>\n",
              "      <td>97</td>\n",
              "    </tr>\n",
              "    <tr>\n",
              "      <th>Darius Leonard</th>\n",
              "      <td>0.252632</td>\n",
              "      <td>95</td>\n",
              "    </tr>\n",
              "    <tr>\n",
              "      <th>Jamal Adams</th>\n",
              "      <td>0.389474</td>\n",
              "      <td>95</td>\n",
              "    </tr>\n",
              "    <tr>\n",
              "      <th>Tyrann Mathieu</th>\n",
              "      <td>0.250000</td>\n",
              "      <td>92</td>\n",
              "    </tr>\n",
              "    <tr>\n",
              "      <th>Prince Amukamara</th>\n",
              "      <td>0.336957</td>\n",
              "      <td>92</td>\n",
              "    </tr>\n",
              "    <tr>\n",
              "      <th>Shawn Williams</th>\n",
              "      <td>0.307692</td>\n",
              "      <td>91</td>\n",
              "    </tr>\n",
              "    <tr>\n",
              "      <th>Kendall Fuller</th>\n",
              "      <td>0.266667</td>\n",
              "      <td>90</td>\n",
              "    </tr>\n",
              "  </tbody>\n",
              "</table>\n",
              "</div>"
            ],
            "text/plain": [
              "                  incompletionRate  coverCount\n",
              "cover                                         \n",
              "James Bradberry           0.419048         105\n",
              "Eli Apple                 0.352941         102\n",
              "Adoree' Jackson           0.326733         101\n",
              "Tremaine Edmunds          0.340206          97\n",
              "Darius Leonard            0.252632          95\n",
              "Jamal Adams               0.389474          95\n",
              "Tyrann Mathieu            0.250000          92\n",
              "Prince Amukamara          0.336957          92\n",
              "Shawn Williams            0.307692          91\n",
              "Kendall Fuller            0.266667          90"
            ]
          },
          "metadata": {
            "tags": []
          },
          "execution_count": 14
        }
      ]
    },
    {
      "cell_type": "code",
      "metadata": {
        "colab": {
          "base_uri": "https://localhost:8080/"
        },
        "id": "wkBJva4-QlLa",
        "outputId": "bdb1d58d-b7d2-424f-b713-4c110e627b1d"
      },
      "source": [
        "# What is the average completion rate in the league\r\n",
        "\r\n",
        "print(\"Mean Incompletion Rate:\\t\" + str(round(pairTotal.incompletionRate.mean(),3)))\r\n",
        "print(\"Mean Cover Count:\\t\" + str(round(pairTotal.coverCount.mean(), 1)))"
      ],
      "execution_count": null,
      "outputs": [
        {
          "output_type": "stream",
          "text": [
            "Mean Incompletion Rate:\t0.304\n",
            "Mean Cover Count:\t31.3\n"
          ],
          "name": "stdout"
        }
      ]
    },
    {
      "cell_type": "code",
      "metadata": {
        "colab": {
          "base_uri": "https://localhost:8080/",
          "height": 760
        },
        "id": "zxLQ4ttQQucY",
        "outputId": "d7465a4f-1102-4514-9c66-855ea325723c"
      },
      "source": [
        "# Plot for ease of use\r\n",
        "\r\n",
        "plt.close('all')\r\n",
        "ax = pairTotal.plot.scatter(x='coverCount', y='incompletionRate', figsize=(10,5))\r\n",
        "plt.plot([-10,130], [pairTotal.incompletionRate.mean(), pairTotal.incompletionRate.mean()], c='C1')\r\n",
        "\r\n",
        "# Finding the players on the edges\r\n",
        "tempX = np.arange(0,110,1)\r\n",
        "tempY = np.exp(-0.03 * (tempX+10))+0.6\r\n",
        "#plt.plot(tempX, tempY, c='C2')\r\n",
        "\r\n",
        "tempDistToLine = []\r\n",
        "for i in range(len(pairTotal)):\r\n",
        "    p = pairTotal.iloc[i]\r\n",
        "    minDist = 100000000\r\n",
        "    for j in range(len(tempX)):\r\n",
        "        tempdist = math.sqrt((p.coverCount-j)**2+(p.incompletionRate-tempY[j])**2)\r\n",
        "        minDist = min(minDist, tempdist)\r\n",
        "    tempDistToLine.append(minDist)\r\n",
        "temp = pairTotal.assign(dist=tempDistToLine)\r\n",
        "edge_points = temp.sort_values('dist', ascending=True)[:7]\r\n",
        "edge_points.plot.scatter(x='coverCount', y='incompletionRate',c='C3', ax=ax)\r\n",
        "for i in range(len(edge_points)):\r\n",
        "    p = edge_points.iloc[i]\r\n",
        "    name = edge_points.index[i]\r\n",
        "    if 'Darius Slay' in name:\r\n",
        "        plt.text(x=p.coverCount, y=p.incompletionRate+0.03, s=name)\r\n",
        "    else:   \r\n",
        "        plt.text(x=p.coverCount, y=p.incompletionRate, s=name)\r\n",
        "print(edge_points.index)\r\n",
        "\r\n",
        "\r\n",
        "plt.xlim([0, 110])\r\n",
        "plt.ylim([-.05, 1.05])\r\n",
        "plt.title(\"Forced Incompletion Rate per Defensive Tries\")\r\n",
        "plt.show()"
      ],
      "execution_count": null,
      "outputs": [
        {
          "output_type": "stream",
          "text": [
            "Index(['Terrell Suggs', 'Darius Slay', 'Za'Darius Smith', 'Stephon Gilmore',\n",
            "       'James Bradberry', 'Marlon Humphrey', 'Kyle Fuller'],\n",
            "      dtype='object', name='cover')\n"
          ],
          "name": "stdout"
        },
        {
          "output_type": "display_data",
          "data": {
            "image/png": "[encoded data removed]",
            "text/plain": [
              "<Figure size 1500x750 with 1 Axes>"
            ]
          },
          "metadata": {
            "tags": [],
            "needs_background": "light"
          }
        }
      ]
    },
    {
      "cell_type": "code",
      "metadata": {
        "colab": {
          "base_uri": "https://localhost:8080/",
          "height": 287
        },
        "id": "vDBZE9R0Q2Ce",
        "outputId": "718e84c7-48f3-40ff-b3f9-547a44fd7bc4"
      },
      "source": [
        "edge_points.drop('dist', axis=1).sort_values('coverCount', ascending=False)"
      ],
      "execution_count": null,
      "outputs": [
        {
          "output_type": "execute_result",
          "data": {
            "text/html": [
              "<div>\n",
              "<style scoped>\n",
              "    .dataframe tbody tr th:only-of-type {\n",
              "        vertical-align: middle;\n",
              "    }\n",
              "\n",
              "    .dataframe tbody tr th {\n",
              "        vertical-align: top;\n",
              "    }\n",
              "\n",
              "    .dataframe thead th {\n",
              "        text-align: right;\n",
              "    }\n",
              "</style>\n",
              "<table border=\"1\" class=\"dataframe\">\n",
              "  <thead>\n",
              "    <tr style=\"text-align: right;\">\n",
              "      <th></th>\n",
              "      <th>incompletionRate</th>\n",
              "      <th>coverCount</th>\n",
              "    </tr>\n",
              "    <tr>\n",
              "      <th>cover</th>\n",
              "      <th></th>\n",
              "      <th></th>\n",
              "    </tr>\n",
              "  </thead>\n",
              "  <tbody>\n",
              "    <tr>\n",
              "      <th>James Bradberry</th>\n",
              "      <td>0.419048</td>\n",
              "      <td>105</td>\n",
              "    </tr>\n",
              "    <tr>\n",
              "      <th>Kyle Fuller</th>\n",
              "      <td>0.419753</td>\n",
              "      <td>81</td>\n",
              "    </tr>\n",
              "    <tr>\n",
              "      <th>Stephon Gilmore</th>\n",
              "      <td>0.461538</td>\n",
              "      <td>78</td>\n",
              "    </tr>\n",
              "    <tr>\n",
              "      <th>Darius Slay</th>\n",
              "      <td>0.467532</td>\n",
              "      <td>77</td>\n",
              "    </tr>\n",
              "    <tr>\n",
              "      <th>Marlon Humphrey</th>\n",
              "      <td>0.500000</td>\n",
              "      <td>60</td>\n",
              "    </tr>\n",
              "    <tr>\n",
              "      <th>Za'Darius Smith</th>\n",
              "      <td>0.666667</td>\n",
              "      <td>33</td>\n",
              "    </tr>\n",
              "    <tr>\n",
              "      <th>Terrell Suggs</th>\n",
              "      <td>0.833333</td>\n",
              "      <td>18</td>\n",
              "    </tr>\n",
              "  </tbody>\n",
              "</table>\n",
              "</div>"
            ],
            "text/plain": [
              "                 incompletionRate  coverCount\n",
              "cover                                        \n",
              "James Bradberry          0.419048         105\n",
              "Kyle Fuller              0.419753          81\n",
              "Stephon Gilmore          0.461538          78\n",
              "Darius Slay              0.467532          77\n",
              "Marlon Humphrey          0.500000          60\n",
              "Za'Darius Smith          0.666667          33\n",
              "Terrell Suggs            0.833333          18"
            ]
          },
          "metadata": {
            "tags": []
          },
          "execution_count": 17
        }
      ]
    },
    {
      "cell_type": "code",
      "metadata": {
        "colab": {
          "base_uri": "https://localhost:8080/"
        },
        "id": "ElrHdWrdRAWe",
        "outputId": "e99e1225-de02-4dbd-b86e-20c5eaa404f5"
      },
      "source": [
        "# Save DataFrame to csv for Tableau\r\n",
        "\r\n",
        "from google.colab import drive\r\n",
        "drive.mount('drive')"
      ],
      "execution_count": null,
      "outputs": [
        {
          "output_type": "stream",
          "text": [
            "Mounted at drive\n"
          ],
          "name": "stdout"
        }
      ]
    },
    {
      "cell_type": "code",
      "metadata": {
        "id": "jnQBa9lMR0C5"
      },
      "source": [
        "playsWithPair.to_csv('playsWithPair.csv')\r\n",
        "!cp playsWithPair.csv \"drive/My Drive/\""
      ],
      "execution_count": null,
      "outputs": []
    },
    {
      "cell_type": "code",
      "metadata": {
        "colab": {
          "base_uri": "https://localhost:8080/"
        },
        "id": "-MvYI3TaR_LH",
        "outputId": "452119aa-6799-4070-e6a5-b40657297221"
      },
      "source": [
        "list(playsWithPair.columns)"
      ],
      "execution_count": null,
      "outputs": [
        {
          "output_type": "execute_result",
          "data": {
            "text/plain": [
              "['Unnamed: 0',\n",
              " 'gameId',\n",
              " 'playId',\n",
              " 'playDescription',\n",
              " 'quarter',\n",
              " 'down',\n",
              " 'yardsToGo',\n",
              " 'possessionTeam',\n",
              " 'playType',\n",
              " 'yardlineSide',\n",
              " 'yardlineNumber',\n",
              " 'offenseFormation',\n",
              " 'personnelO',\n",
              " 'defendersInTheBox',\n",
              " 'numberOfPassRushers',\n",
              " 'personnelD',\n",
              " 'typeDropback',\n",
              " 'preSnapVisitorScore',\n",
              " 'preSnapHomeScore',\n",
              " 'gameClock',\n",
              " 'absoluteYardlineNumber',\n",
              " 'penaltyCodes',\n",
              " 'penaltyJerseyNumbers',\n",
              " 'passResult',\n",
              " 'offensePlayResult',\n",
              " 'playResult',\n",
              " 'epa',\n",
              " 'isDefensivePI',\n",
              " 'target',\n",
              " 'coverOne',\n",
              " 'coverTwo']"
            ]
          },
          "metadata": {
            "tags": []
          },
          "execution_count": 26
        }
      ]
    },
    {
      "cell_type": "code",
      "metadata": {
        "id": "tJzh6NCUWKa_"
      },
      "source": [
        ""
      ],
      "execution_count": null,
      "outputs": []
    }
  ]
}